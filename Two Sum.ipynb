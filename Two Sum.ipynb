{
 "cells": [
  {
   "cell_type": "markdown",
   "id": "e22dbd92-2b85-4d03-b594-874fa8e85ff0",
   "metadata": {},
   "source": [
    "# 1. Two Sum\n",
    "Given an array of integers nums and an integer target, return indices of the two numbers such that they add up to target.\r\n",
    "\r\n",
    "You may assume that each input would have exactly one solution, and you may not use the same element twice.\r\n",
    "\r\n",
    "You can return the answer in any order.\r\n",
    "\r\n",
    " \r\n",
    "\r\n",
    "Example 1:\r\n",
    "\r\n",
    "Input: nums = [2,7,11,15], target = 9\r\n",
    "Output: [0,1]\r\n",
    "Explanation: Because nums[0] + nums[1] == 9, we return [0, 1].\r\n",
    "Example 2:\r\n",
    "\r\n",
    "Input: nums = [3,2,4], target = 6\r\n",
    "Output: [1,2]\r\n",
    "Example 3:\r\n",
    "\r\n",
    "Input: nums = [3,3], target = 6\r\n",
    "Output: [0,1]"
   ]
  },
  {
   "cell_type": "markdown",
   "id": "40c80e4b-bb76-41c3-848f-618b8d50535d",
   "metadata": {},
   "source": [
    "## Intuition\n",
    "Using Dictionary data structure\n",
    "\n",
    "## Approach\n",
    "We will store all elements of the list in a dictionary where the key represents the number and the value represents its index. Then, we will search for the complement number in that dictionary, and when we find it, we will return immediately.\n",
    "\n",
    "## Complexity\n",
    "### Time complexity:\n",
    "o(n)\n",
    "\n",
    "### Space complexity:\n",
    "o(2n)\n",
    "\n",
    "## Code"
   ]
  },
  {
   "cell_type": "code",
   "execution_count": 26,
   "id": "a5de0975-8da3-4c33-9659-48f961448020",
   "metadata": {},
   "outputs": [],
   "source": [
    "# def twoSum(self, nums: List[int], target: int) -> List[int]:\n",
    "def twoSum(nums, target):\n",
    "        dct = {}\n",
    "        for index in range(len(nums)):\n",
    "            val = target - nums[index]\n",
    "            if val in dct:\n",
    "                return [dct[val], index]\n",
    "            dct[nums[index]] = index"
   ]
  },
  {
   "cell_type": "code",
   "execution_count": 27,
   "id": "37fbad06-a394-4a0d-9160-14203b1d6122",
   "metadata": {},
   "outputs": [
    {
     "data": {
      "text/plain": [
       "[0, 1]"
      ]
     },
     "execution_count": 27,
     "metadata": {},
     "output_type": "execute_result"
    }
   ],
   "source": [
    "twoSum([2,7,11,15], 9)"
   ]
  },
  {
   "cell_type": "code",
   "execution_count": 28,
   "id": "51984aeb-c3cf-4062-b24a-58d86243b2f1",
   "metadata": {},
   "outputs": [
    {
     "data": {
      "text/plain": [
       "[0, 2]"
      ]
     },
     "execution_count": 28,
     "metadata": {},
     "output_type": "execute_result"
    }
   ],
   "source": [
    "twoSum([3,2,4], 7)"
   ]
  },
  {
   "cell_type": "code",
   "execution_count": 29,
   "id": "da063f4b-cbf7-419f-9af3-a6c5706615b2",
   "metadata": {},
   "outputs": [
    {
     "data": {
      "text/plain": [
       "[0, 1]"
      ]
     },
     "execution_count": 29,
     "metadata": {},
     "output_type": "execute_result"
    }
   ],
   "source": [
    "twoSum([3,3], 6)"
   ]
  },
  {
   "cell_type": "code",
   "execution_count": 30,
   "id": "b56afe59-68a3-42d2-80f8-0522a97ef519",
   "metadata": {},
   "outputs": [
    {
     "data": {
      "text/plain": [
       "[0, 2]"
      ]
     },
     "execution_count": 30,
     "metadata": {},
     "output_type": "execute_result"
    }
   ],
   "source": [
    "twoSum([-3,4,3,90], 0)"
   ]
  }
 ],
 "metadata": {
  "kernelspec": {
   "display_name": "Python 3 (ipykernel)",
   "language": "python",
   "name": "python3"
  },
  "language_info": {
   "codemirror_mode": {
    "name": "ipython",
    "version": 3
   },
   "file_extension": ".py",
   "mimetype": "text/x-python",
   "name": "python",
   "nbconvert_exporter": "python",
   "pygments_lexer": "ipython3",
   "version": "3.11.7"
  }
 },
 "nbformat": 4,
 "nbformat_minor": 5
}
