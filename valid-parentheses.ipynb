{
 "cells": [
  {
   "cell_type": "markdown",
   "id": "2e75c586-9978-4fc9-91ff-380ba61a2678",
   "metadata": {},
   "source": [
    "# 2. valid-parentheses\n",
    "Given a string s containing just the characters '(', ')', '{', '}', '[' and ']', determine if the input string is valid.\r\n",
    "\r\n",
    "An input string is valid if:\r\n",
    "\r\n",
    "Open brackets must be closed by the same type of brackets.\r\n",
    "Open brackets must be closed in the correct order.\r\n",
    "Every close bracket has a corresponding open bracket of the same type.\r\n",
    " \r\n",
    "\r\n",
    "Example 1:\r\n",
    "\r\n",
    "Input: s = \"()\"\r\n",
    "Output: true\r\n",
    "Example 2:\r\n",
    "\r\n",
    "Input: s = \"()[]{}\"\r\n",
    "Output: true\r\n",
    "Example 3:\r\n",
    "\r\n",
    "Input: s = \"(]\"\r\n",
    "Output: false\r\n",
    " \r\n",
    "\r\n",
    "Constraints:\r\n",
    "\r\n",
    "1 <= s.length <= 104\r\n",
    "s consists of parentheses only '()[]{}'."
   ]
  },
  {
   "cell_type": "markdown",
   "id": "53ca9faa-a5ee-41d0-b761-e5f95e331abf",
   "metadata": {},
   "source": [
    "## Intuition\n",
    "Use Stack Data Structure\n",
    "\n",
    "## Approach\n",
    "Push open parentheses onto the stack. When a closing parenthesis is encountered, check if the top element of the stack forms a valid pair. Finally, check if the stack is empty; if it is, return true, otherwise return false.\n",
    "\n",
    "## Complexity\n",
    "### Time complexity:\n",
    "o(n)\n",
    "\n",
    "### Space complexity:\n",
    "o(n)\n",
    "\n",
    "## Code"
   ]
  },
  {
   "cell_type": "code",
   "execution_count": 5,
   "id": "de8d4aa3-1c74-44e1-a297-0c5d6a44bfe9",
   "metadata": {},
   "outputs": [],
   "source": [
    "def isValid(s: str) -> bool:\n",
    "    stack = []\n",
    "    closeToOpenDict = {\")\": \"(\", \"]\": \"[\", \"}\": \"{\"}\n",
    "\n",
    "    for chars in s:\n",
    "        if chars in closeToOpenDict:\n",
    "            if stack and stack[-1] == closeToOpenDict[chars]:\n",
    "                stack.pop()\n",
    "            else:\n",
    "                return False\n",
    "        else:\n",
    "            stack.append(chars)\n",
    "        \n",
    "    return True if not stack else False\n",
    "                "
   ]
  },
  {
   "cell_type": "code",
   "execution_count": 6,
   "id": "609e5ef9-fa2f-4502-afaf-2c31371a89f1",
   "metadata": {},
   "outputs": [
    {
     "data": {
      "text/plain": [
       "True"
      ]
     },
     "execution_count": 6,
     "metadata": {},
     "output_type": "execute_result"
    }
   ],
   "source": [
    "isValid(\"()\")"
   ]
  },
  {
   "cell_type": "code",
   "execution_count": 7,
   "id": "cb2081dc-8044-425d-a1f8-7d3cd3e115e2",
   "metadata": {},
   "outputs": [
    {
     "data": {
      "text/plain": [
       "True"
      ]
     },
     "execution_count": 7,
     "metadata": {},
     "output_type": "execute_result"
    }
   ],
   "source": [
    "isValid(\"()[]{}\")"
   ]
  },
  {
   "cell_type": "code",
   "execution_count": 8,
   "id": "4a503073-2a55-44df-8953-72d6065f358b",
   "metadata": {},
   "outputs": [
    {
     "data": {
      "text/plain": [
       "False"
      ]
     },
     "execution_count": 8,
     "metadata": {},
     "output_type": "execute_result"
    }
   ],
   "source": [
    "isValid(\"(]\")"
   ]
  },
  {
   "cell_type": "code",
   "execution_count": null,
   "id": "69c2d8b5-e39a-4ab4-ad49-28d75623bb1d",
   "metadata": {},
   "outputs": [],
   "source": []
  }
 ],
 "metadata": {
  "kernelspec": {
   "display_name": "Python 3 (ipykernel)",
   "language": "python",
   "name": "python3"
  },
  "language_info": {
   "codemirror_mode": {
    "name": "ipython",
    "version": 3
   },
   "file_extension": ".py",
   "mimetype": "text/x-python",
   "name": "python",
   "nbconvert_exporter": "python",
   "pygments_lexer": "ipython3",
   "version": "3.11.7"
  }
 },
 "nbformat": 4,
 "nbformat_minor": 5
}
